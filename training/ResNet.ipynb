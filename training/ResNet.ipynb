{
 "cells": [
  {
   "cell_type": "code",
   "execution_count": 7,
   "metadata": {},
   "outputs": [],
   "source": [
    "import torch\n",
    "import torchvision\n",
    "import torchvision.transforms as transforms\n",
    "import torchvision.models as models\n",
    "import torch.nn as nn\n",
    "import torch.optim as optim\n",
    "from torch.utils.data import DataLoader\n",
    "from torchvision.datasets import ImageFolder\n",
    "from torch.optim.lr_scheduler import ReduceLROnPlateau\n",
    "import os\n",
    "\n",
    "DEVICE = torch.device(\"cuda:0\" if torch.cuda.is_available() else \"cpu\")"
   ]
  },
  {
   "cell_type": "code",
   "execution_count": 8,
   "metadata": {},
   "outputs": [],
   "source": [
    "transform = transforms.Compose([\n",
    "    transforms.Resize((224, 224)),\n",
    "    transforms.ToTensor(),\n",
    "    transforms.Normalize((0.5, 0.5, 0.5), (0.5, 0.5, 0.5))\n",
    "])"
   ]
  },
  {
   "cell_type": "code",
   "execution_count": 9,
   "metadata": {},
   "outputs": [],
   "source": [
    "data_folder = os.path.join(os.curdir, 'AllData')\n",
    "\n",
    "train_path = os.path.join(data_folder, 'train')\n",
    "val_path = os.path.join(data_folder, 'val')\n",
    "test_path = os.path.join(data_folder, 'test')\n",
    "\n",
    "train_dataset = ImageFolder(train_path, transform=transform)\n",
    "val_dataset = ImageFolder(val_path, transform=transform)\n",
    "test_dataset = ImageFolder(test_path, transform=transform)\n",
    "\n",
    "train_loader = DataLoader(train_dataset, batch_size=32, shuffle=True)\n",
    "val_loader = DataLoader(val_dataset, batch_size=32, shuffle=True)\n",
    "test_loader = DataLoader(test_dataset, batch_size=32, shuffle=True)"
   ]
  },
  {
   "cell_type": "code",
   "execution_count": 10,
   "metadata": {},
   "outputs": [],
   "source": [
    "model = models.resnet18(pretrained=True)\n",
    "\n",
    "num_classes = 11\n",
    "model.fc = nn.Linear(model.fc.in_features, num_classes)\n",
    "\n",
    "optimizer = optim.Adam(model.parameters(), lr=1e-5, weight_decay=1e-5)\n",
    "criterion = nn.CrossEntropyLoss()\n",
    "\n",
    "scheduler = ReduceLROnPlateau(optimizer, 'min', patience=3)\n",
    "\n",
    "model.to(DEVICE)\n",
    "\n",
    "num_epochs = 20\n",
    "best_val_acc = 0.9088\n"
   ]
  },
  {
   "cell_type": "code",
   "execution_count": 11,
   "metadata": {},
   "outputs": [
    {
     "name": "stdout",
     "output_type": "stream",
     "text": [
      "Epoch [1/20] Train Loss: 1.7313 Val Loss: 1.0345 Val Acc: 0.7535\n",
      "Epoch [2/20] Train Loss: 0.8097 Val Loss: 0.6180 Val Acc: 0.8556\n",
      "Epoch [3/20] Train Loss: 0.5251 Val Loss: 0.4617 Val Acc: 0.8833\n",
      "Epoch [4/20] Train Loss: 0.3974 Val Loss: 0.3975 Val Acc: 0.8986\n",
      "Epoch [5/20] Train Loss: 0.3234 Val Loss: 0.3501 Val Acc: 0.8993\n",
      "Epoch [6/20] Train Loss: 0.2527 Val Loss: 0.3250 Val Acc: 0.9030\n",
      "Epoch [7/20] Train Loss: 0.2157 Val Loss: 0.3029 Val Acc: 0.9110\n",
      "Epoch [8/20] Train Loss: 0.1723 Val Loss: 0.2894 Val Acc: 0.9103\n",
      "Epoch [9/20] Train Loss: 0.1410 Val Loss: 0.2850 Val Acc: 0.9139\n",
      "Epoch [10/20] Train Loss: 0.1179 Val Loss: 0.2764 Val Acc: 0.9110\n",
      "Epoch [11/20] Train Loss: 0.0961 Val Loss: 0.2835 Val Acc: 0.9132\n",
      "Epoch [12/20] Train Loss: 0.0764 Val Loss: 0.2775 Val Acc: 0.9117\n",
      "Epoch [13/20] Train Loss: 0.0715 Val Loss: 0.2745 Val Acc: 0.9154\n",
      "Epoch [14/20] Train Loss: 0.0613 Val Loss: 0.2769 Val Acc: 0.9139\n",
      "Epoch [15/20] Train Loss: 0.0449 Val Loss: 0.2678 Val Acc: 0.9132\n",
      "Epoch [16/20] Train Loss: 0.0386 Val Loss: 0.2805 Val Acc: 0.9154\n",
      "Epoch [17/20] Train Loss: 0.0342 Val Loss: 0.2651 Val Acc: 0.9147\n",
      "Epoch [18/20] Train Loss: 0.0280 Val Loss: 0.2724 Val Acc: 0.9147\n",
      "Epoch [19/20] Train Loss: 0.0292 Val Loss: 0.2791 Val Acc: 0.9132\n",
      "Epoch [20/20] Train Loss: 0.0259 Val Loss: 0.2763 Val Acc: 0.9103\n",
      "Training complete. Best validation accuracy: tensor(0.9154, device='cuda:0', dtype=torch.float64)\n"
     ]
    }
   ],
   "source": [
    "for epoch in range(num_epochs):\n",
    "    model.train()\n",
    "    train_loss = 0.0\n",
    "    \n",
    "    for inputs, labels in train_loader:\n",
    "        inputs, labels = inputs.to(DEVICE), labels.to(DEVICE)\n",
    "        \n",
    "        optimizer.zero_grad()\n",
    "        outputs = model(inputs)\n",
    "        loss = criterion(outputs, labels)\n",
    "        loss.backward()\n",
    "        optimizer.step()\n",
    "        \n",
    "        train_loss += loss.item() * inputs.size(0)\n",
    "    \n",
    "    # Calculate validation accuracy and adjust learning rate (optional)\n",
    "    model.eval()\n",
    "    val_loss = 0.0\n",
    "    val_correct = 0\n",
    "    \n",
    "    with torch.no_grad():\n",
    "        for inputs, labels in val_loader:\n",
    "            inputs, labels = inputs.to(DEVICE), labels.to(DEVICE)\n",
    "            outputs = model(inputs)\n",
    "            loss = criterion(outputs, labels)\n",
    "            val_loss += loss.item() * inputs.size(0)\n",
    "            _, preds = torch.max(outputs, 1)\n",
    "            val_correct += torch.sum(preds == labels.data)\n",
    "    \n",
    "    val_acc = val_correct.double() / len(val_dataset)\n",
    "    \n",
    "    print(f'Epoch [{epoch + 1}/{num_epochs}] '\n",
    "          f'Train Loss: {train_loss / len(train_dataset):.4f} '\n",
    "          f'Val Loss: {val_loss / len(val_dataset):.4f} '\n",
    "          f'Val Acc: {val_acc:.4f}')\n",
    "    \n",
    "    # Adjust learning rate (optional)\n",
    "    scheduler.step(val_loss)\n",
    "    \n",
    "    # Save the best model weights\n",
    "    if val_acc > best_val_acc:\n",
    "        best_val_acc = val_acc\n",
    "        torch.save(model.state_dict(), 'best_model.pth')\n",
    "\n",
    "print('Training complete. Best validation accuracy:', best_val_acc)"
   ]
  },
  {
   "cell_type": "code",
   "execution_count": 12,
   "metadata": {},
   "outputs": [
    {
     "name": "stdout",
     "output_type": "stream",
     "text": [
      "Test Accuracy: tensor(0.9107, device='cuda:0', dtype=torch.float64)\n"
     ]
    }
   ],
   "source": [
    "# Evaluate on test data\n",
    "model.load_state_dict(torch.load('best_model.pth'))  # Load the best model\n",
    "model.eval()\n",
    "\n",
    "test_correct = 0\n",
    "\n",
    "with torch.no_grad():\n",
    "    for inputs, labels in test_loader:\n",
    "        inputs, labels = inputs.to(DEVICE), labels.to(DEVICE)\n",
    "        outputs = model(inputs)\n",
    "        _, preds = torch.max(outputs, 1)\n",
    "        test_correct += torch.sum(preds == labels.data)\n",
    "\n",
    "test_acc = test_correct.double() / len(test_dataset)\n",
    "print('Test Accuracy:', test_acc)"
   ]
  },
  {
   "cell_type": "code",
   "execution_count": null,
   "metadata": {},
   "outputs": [],
   "source": []
  }
 ],
 "metadata": {
  "kernelspec": {
   "display_name": "venv",
   "language": "python",
   "name": "python3"
  },
  "language_info": {
   "codemirror_mode": {
    "name": "ipython",
    "version": 3
   },
   "file_extension": ".py",
   "mimetype": "text/x-python",
   "name": "python",
   "nbconvert_exporter": "python",
   "pygments_lexer": "ipython3",
   "version": "3.10.12"
  },
  "orig_nbformat": 4
 },
 "nbformat": 4,
 "nbformat_minor": 2
}
